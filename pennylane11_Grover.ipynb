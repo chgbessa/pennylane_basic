{
 "cells": [
  {
   "cell_type": "code",
   "execution_count": 1,
   "id": "39e68fa4",
   "metadata": {},
   "outputs": [],
   "source": [
    "import pennylane as qml\n",
    "from pennylane import numpy as np"
   ]
  },
  {
   "cell_type": "code",
   "execution_count": 2,
   "id": "cbdf0d62",
   "metadata": {},
   "outputs": [],
   "source": [
    "property_prices = [4, 8, 6, 3, 12, 15] #48  total\n",
    "\n",
    "variables_wires = [0, 1, 2, 3, 4, 5]\n",
    "aux_oracle_wires = [6, 7, 8, 9, 10, 11]"
   ]
  },
  {
   "cell_type": "code",
   "execution_count": 3,
   "id": "8d2c76c5",
   "metadata": {},
   "outputs": [],
   "source": [
    "def oracle(variables_wires, aux_oracle_wires):\n",
    "    \n",
    "    def add_k_fourier(k, wires):\n",
    "        for j in range(len(wires)):\n",
    "            qml.RZ(k*np.pi/(2**j), wires = wires[j])\n",
    "            \n",
    "    def value_second_sibling():\n",
    "        \n",
    "        qml.QFT(wires = aux_oracle_wires)\n",
    "        \n",
    "        for wire in variables_wires:\n",
    "            qml.ctrl(add_k_fourier, control = wire)(property_prices[wire], wires = aux_oracle_wires)\n",
    "            \n",
    "        qml.adjoint(qml.QFT)(wires = aux_oracle_wires)\n",
    "        \n",
    "    value_second_sibling()\n",
    "    qml.FlipSign(sum(property_prices)//2, wires = aux_oracle_wires)\n",
    "    qml.adjoint(value_second_sibling)()\n",
    "            "
   ]
  },
  {
   "cell_type": "code",
   "execution_count": 4,
   "id": "0ab5a863",
   "metadata": {},
   "outputs": [],
   "source": [
    "dev = qml.device(\"default.qubit\", wires = variables_wires + aux_oracle_wires)\n",
    "\n",
    "@qml.qnode(dev)\n",
    "def circuit():\n",
    "    \n",
    "    #step 1\n",
    "    \n",
    "    for wire in variables_wires:\n",
    "        qml.Hadamard(wires = wire)\n",
    "   \n",
    "\n",
    "    for _ in range(3):\n",
    "        #step 2\n",
    "    \n",
    "        oracle(variables_wires, aux_oracle_wires)\n",
    "    \n",
    "        #step 3\n",
    "    \n",
    "        qml.GroverOperator(wires = variables_wires)\n",
    "    \n",
    "    return qml.probs(wires = variables_wires)"
   ]
  },
  {
   "cell_type": "code",
   "execution_count": 5,
   "id": "4cbc8f88",
   "metadata": {},
   "outputs": [],
   "source": [
    "import matplotlib.pyplot as plt"
   ]
  },
  {
   "cell_type": "code",
   "execution_count": 6,
   "id": "f10e0c94",
   "metadata": {},
   "outputs": [
    {
     "data": {
      "text/plain": [
       "<BarContainer object of 64 artists>"
      ]
     },
     "execution_count": 6,
     "metadata": {},
     "output_type": "execute_result"
    },
    {
     "data": {
      "image/png": "[encoded data removed]",
      "text/plain": [
       "<Figure size 640x480 with 1 Axes>"
      ]
     },
     "metadata": {},
     "output_type": "display_data"
    }
   ],
   "source": [
    "values = circuit()\n",
    "plt.bar(range(len(values)), values)"
   ]
  },
  {
   "cell_type": "code",
   "execution_count": 7,
   "id": "ce0cceac",
   "metadata": {},
   "outputs": [],
   "source": [
    "dev = qml.device(\"default.qubit\", wires = variables_wires + aux_oracle_wires, shots = 1)\n",
    "\n",
    "@qml.qnode(dev)\n",
    "def circuit():\n",
    "    \n",
    "    #step 1\n",
    "    \n",
    "    for wire in variables_wires:\n",
    "        qml.Hadamard(wires = wire)\n",
    "   \n",
    "\n",
    "    for _ in range(3):\n",
    "        #step 2\n",
    "    \n",
    "        oracle(variables_wires, aux_oracle_wires)\n",
    "    \n",
    "        #step 3\n",
    "    \n",
    "        qml.GroverOperator(wires = variables_wires)\n",
    "    \n",
    "    return qml.sample(wires = variables_wires)"
   ]
  },
  {
   "cell_type": "code",
   "execution_count": 8,
   "id": "55db8b2f",
   "metadata": {},
   "outputs": [
    {
     "name": "stdout",
     "output_type": "stream",
     "text": [
      "[0 0 1 0 0 0]\n"
     ]
    }
   ],
   "source": [
    "values = circuit()\n",
    "print(values)"
   ]
  },
  {
   "cell_type": "code",
   "execution_count": null,
   "id": "6b94d5da",
   "metadata": {},
   "outputs": [],
   "source": []
  }
 ],
 "metadata": {
  "kernelspec": {
   "display_name": "Python 3 (ipykernel)",
   "language": "python",
   "name": "python3"
  },
  "language_info": {
   "codemirror_mode": {
    "name": "ipython",
    "version": 3
   },
   "file_extension": ".py",
   "mimetype": "text/x-python",
   "name": "python",
   "nbconvert_exporter": "python",
   "pygments_lexer": "ipython3",
   "version": "3.12.5"
  }
 },
 "nbformat": 4,
 "nbformat_minor": 5
}
