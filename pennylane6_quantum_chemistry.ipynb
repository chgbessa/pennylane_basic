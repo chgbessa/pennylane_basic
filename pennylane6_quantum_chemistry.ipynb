{
 "cells": [
  {
   "cell_type": "code",
   "execution_count": 1,
   "id": "7b3120f0",
   "metadata": {},
   "outputs": [],
   "source": [
    "import pennylane as qml\n",
    "from pennylane import numpy as np\n",
    "from pennylane import qchem"
   ]
  },
  {
   "cell_type": "code",
   "execution_count": 2,
   "id": "84cea7a7",
   "metadata": {},
   "outputs": [],
   "source": [
    "symbols = [\"H\", \"H\"]\n",
    "coordinates = np.array([[-0.673, 0,0], [0.673, 0, 0]])"
   ]
  },
  {
   "cell_type": "code",
   "execution_count": 3,
   "id": "3c18f351",
   "metadata": {},
   "outputs": [
    {
     "name": "stdout",
     "output_type": "stream",
     "text": [
      "4\n"
     ]
    }
   ],
   "source": [
    "H, qubits = qchem.molecular_hamiltonian(symbols, coordinates)\n",
    "print(qubits) #Qubits necessarios para simular a molecula acima"
   ]
  },
  {
   "cell_type": "code",
   "execution_count": 4,
   "id": "936a2322",
   "metadata": {},
   "outputs": [
    {
     "name": "stdout",
     "output_type": "stream",
     "text": [
      "-0.059722777506507174 * I(0) + 0.17574790106889876 * Z(0) + 0.17574790106889876 * Z(1) + 0.1700120046062239 * (Z(0) @ Z(1)) + -0.23663556589795115 * Z(2) + 0.12222295790716331 * (Z(0) @ Z(2)) + 0.16714112448986262 * (Z(1) @ Z(2)) + 0.044918166582699315 * (Y(0) @ X(1) @ X(2) @ Y(3)) + -0.044918166582699315 * (Y(0) @ Y(1) @ X(2) @ X(3)) + -0.044918166582699315 * (X(0) @ X(1) @ Y(2) @ Y(3)) + 0.044918166582699315 * (X(0) @ Y(1) @ Y(2) @ X(3)) + -0.23663556589795115 * Z(3) + 0.16714112448986262 * (Z(0) @ Z(3)) + 0.12222295790716331 * (Z(1) @ Z(3)) + 0.1756999882843957 * (Z(2) @ Z(3))\n"
     ]
    }
   ],
   "source": [
    "print(H) #Como deve ser a Hamiltoniana para a molecula acima"
   ]
  },
  {
   "cell_type": "code",
   "execution_count": 5,
   "id": "7b0de0f3",
   "metadata": {},
   "outputs": [],
   "source": [
    "num_wires = qubits\n",
    "dev = qml.device(\"default.qubit\", wires = num_wires)\n",
    "\n",
    "@qml.qnode(dev)\n",
    "def exp_energy(state):\n",
    "    \n",
    "    qml.BasisState(np.array(state), wires = range(num_wires))\n",
    "    \n",
    "    return qml.expval(H)"
   ]
  },
  {
   "cell_type": "code",
   "execution_count": 6,
   "id": "e2ce4531",
   "metadata": {},
   "outputs": [
    {
     "data": {
      "text/plain": [
       "tensor(-0.4952711, requires_grad=True)"
      ]
     },
     "execution_count": 6,
     "metadata": {},
     "output_type": "execute_result"
    }
   ],
   "source": [
    "exp_energy([1, 0, 1, 0])"
   ]
  },
  {
   "cell_type": "code",
   "execution_count": 7,
   "id": "829cb480",
   "metadata": {},
   "outputs": [],
   "source": [
    "hf = qchem.hf_state(electrons = 2, orbitals = 4)"
   ]
  },
  {
   "cell_type": "code",
   "execution_count": 8,
   "id": "fbaa0cf5",
   "metadata": {},
   "outputs": [
    {
     "data": {
      "text/plain": [
       "tensor(-1.11750588, requires_grad=True)"
      ]
     },
     "execution_count": 8,
     "metadata": {},
     "output_type": "execute_result"
    }
   ],
   "source": [
    "exp_energy(hf)"
   ]
  },
  {
   "cell_type": "code",
   "execution_count": null,
   "id": "558d88ea",
   "metadata": {},
   "outputs": [],
   "source": []
  }
 ],
 "metadata": {
  "kernelspec": {
   "display_name": "Python 3 (ipykernel)",
   "language": "python",
   "name": "python3"
  },
  "language_info": {
   "codemirror_mode": {
    "name": "ipython",
    "version": 3
   },
   "file_extension": ".py",
   "mimetype": "text/x-python",
   "name": "python",
   "nbconvert_exporter": "python",
   "pygments_lexer": "ipython3",
   "version": "3.12.5"
  }
 },
 "nbformat": 4,
 "nbformat_minor": 5
}
