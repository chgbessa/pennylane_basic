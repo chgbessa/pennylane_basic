{
 "cells": [
  {
   "cell_type": "code",
   "execution_count": 1,
   "id": "67d73916",
   "metadata": {},
   "outputs": [],
   "source": [
    "import pennylane as qml\n",
    "from pennylane import numpy as np\n",
    "from pennylane import qchem"
   ]
  },
  {
   "cell_type": "code",
   "execution_count": 2,
   "id": "627acbd6",
   "metadata": {},
   "outputs": [],
   "source": [
    "symbols = [\"H\", \"H\", \"H\"]\n",
    "coordinates = np.array([[0.0102, 0.0442, 0.0],[0.9867, 1.6303, 0.0],[1.8720, -0.0085, 0.0]])"
   ]
  },
  {
   "cell_type": "code",
   "execution_count": 3,
   "id": "cd5ddcab",
   "metadata": {},
   "outputs": [],
   "source": [
    "hamiltonian, qubits = qchem.molecular_hamiltonian(symbols, coordinates, charge = 1) #carga positiva +1, ou seja um eletron \n",
    "#foi removido"
   ]
  },
  {
   "cell_type": "code",
   "execution_count": 4,
   "id": "6bb269b2",
   "metadata": {},
   "outputs": [
    {
     "name": "stdout",
     "output_type": "stream",
     "text": [
      "6\n"
     ]
    }
   ],
   "source": [
    "print(qubits) #Quantos qubits serao necessarios"
   ]
  },
  {
   "cell_type": "code",
   "execution_count": 5,
   "id": "8f280c48",
   "metadata": {},
   "outputs": [],
   "source": [
    "hf = qchem.hf_state(electrons = 2, orbitals = 6) #Hartree-forck state =hf, orbitals = numero de qubits"
   ]
  },
  {
   "cell_type": "code",
   "execution_count": 6,
   "id": "cbdedd91",
   "metadata": {},
   "outputs": [
    {
     "name": "stdout",
     "output_type": "stream",
     "text": [
      "[1 1 0 0 0 0]\n"
     ]
    }
   ],
   "source": [
    "print(hf) #Estado na representacao de Jordan-Wigner"
   ]
  },
  {
   "cell_type": "code",
   "execution_count": 7,
   "id": "16b58281",
   "metadata": {},
   "outputs": [],
   "source": [
    "num_wires = qubits\n",
    "dev = qml.device(\"default.qubit\", wires = num_wires)"
   ]
  },
  {
   "cell_type": "code",
   "execution_count": 8,
   "id": "5271be64",
   "metadata": {},
   "outputs": [],
   "source": [
    "@qml.qnode(dev)\n",
    "def exp_energy(state):\n",
    "    \n",
    "    qml.BasisState(np.array(state), wires = range(num_wires))\n",
    "    return qml.expval(hamiltonian)"
   ]
  },
  {
   "cell_type": "code",
   "execution_count": 9,
   "id": "1b652049",
   "metadata": {},
   "outputs": [
    {
     "data": {
      "text/plain": [
       "tensor(-1.24655016, requires_grad=True)"
      ]
     },
     "execution_count": 9,
     "metadata": {},
     "output_type": "execute_result"
    }
   ],
   "source": [
    "exp_energy(hf)"
   ]
  },
  {
   "cell_type": "code",
   "execution_count": 10,
   "id": "5e9c0720",
   "metadata": {},
   "outputs": [],
   "source": [
    "def ansatz(params):\n",
    "    qml.BasisState(hf, wires = range(num_wires))\n",
    "    qml.DoubleExcitation(params[0], wires = [0, 1, 2, 3])\n",
    "    qml.DoubleExcitation(params[1], wires = [0, 1, 4, 5])"
   ]
  },
  {
   "cell_type": "code",
   "execution_count": 11,
   "id": "c6a96f5f",
   "metadata": {},
   "outputs": [],
   "source": [
    "@qml.qnode(dev)\n",
    "def cost_function(params):\n",
    "    ansatz(params)\n",
    "    return qml.expval(hamiltonian)"
   ]
  },
  {
   "cell_type": "code",
   "execution_count": 12,
   "id": "181018df",
   "metadata": {},
   "outputs": [
    {
     "data": {
      "text/plain": [
       "tensor(-1.26796721, requires_grad=True)"
      ]
     },
     "execution_count": 12,
     "metadata": {},
     "output_type": "execute_result"
    }
   ],
   "source": [
    "cost_function([0.1, 0.1])"
   ]
  },
  {
   "cell_type": "code",
   "execution_count": 13,
   "id": "4a6a1641",
   "metadata": {},
   "outputs": [
    {
     "name": "stdout",
     "output_type": "stream",
     "text": [
      "Step = 0, energy = -1.26070025 Ha\n",
      "Step = 2, energy = -1.27115671 Ha\n",
      "Step = 4, energy = -1.27365804 Ha\n",
      "Step = 6, energy = -1.27425241 Ha\n",
      "Step = 8, energy = -1.27439362 Ha\n",
      "Step = 10, energy = -1.27442718 Ha\n",
      "Step = 12, energy = -1.27443517 Ha\n",
      "Step = 14, energy = -1.27443707 Ha\n",
      "Step = 16, energy = -1.27443752 Ha\n",
      "Step = 18, energy = -1.27443763 Ha\n"
     ]
    }
   ],
   "source": [
    "opt = qml.GradientDescentOptimizer(stepsize = 0.4)\n",
    "theta = np.array([0.0, 0.0], requires_grad = True)\n",
    "\n",
    "energy = [cost_function(theta)]\n",
    "angle = [theta]\n",
    "max_interations = 20\n",
    "\n",
    "for n in range(max_interations):\n",
    "    theta, prev_energy = opt.step_and_cost(cost_function, theta)\n",
    "    \n",
    "    energy.append(cost_function(theta))\n",
    "    angle.append(theta)\n",
    "    \n",
    "    if n%2 ==0:\n",
    "        print(f\"Step = {n}, energy = {energy[-1]:.8f} Ha\" )"
   ]
  },
  {
   "cell_type": "code",
   "execution_count": 14,
   "id": "e708dd06",
   "metadata": {},
   "outputs": [
    {
     "name": "stdout",
     "output_type": "stream",
     "text": [
      "\n",
      "Final ground energy: -1.27443764 Ha\n",
      "\n",
      "Final angle parameters: 0.19203468 0.19290335\n"
     ]
    }
   ],
   "source": [
    "print(\"\\n\" f\"Final ground energy: {energy[-1]:.8f} Ha\")\n",
    "print(\"\\n\" f\"Final angle parameters: {theta[0]:.8f} {theta[1]:.8f}\")"
   ]
  },
  {
   "cell_type": "code",
   "execution_count": 15,
   "id": "fc465e09",
   "metadata": {},
   "outputs": [],
   "source": [
    "@qml.qnode(dev)\n",
    "def ground_state(params):\n",
    "    ansatz(params)\n",
    "    return qml.state()"
   ]
  },
  {
   "cell_type": "code",
   "execution_count": 16,
   "id": "5cb6e5c5",
   "metadata": {},
   "outputs": [
    {
     "data": {
      "text/plain": [
       "tensor([ 0.        +0.j,  0.        +0.j,  0.        +0.j,\n",
       "        -0.09585862+0.j,  0.        +0.j,  0.        +0.j,\n",
       "         0.        +0.j,  0.        +0.j,  0.        +0.j,\n",
       "         0.        +0.j,  0.        +0.j,  0.        +0.j,\n",
       "        -0.09586987+0.j,  0.        +0.j,  0.        +0.j,\n",
       "         0.        +0.j,  0.        +0.j,  0.        +0.j,\n",
       "         0.        +0.j,  0.        +0.j,  0.        +0.j,\n",
       "         0.        +0.j,  0.        +0.j,  0.        +0.j,\n",
       "         0.        +0.j,  0.        +0.j,  0.        +0.j,\n",
       "         0.        +0.j,  0.        +0.j,  0.        +0.j,\n",
       "         0.        +0.j,  0.        +0.j,  0.        +0.j,\n",
       "         0.        +0.j,  0.        +0.j,  0.        +0.j,\n",
       "         0.        +0.j,  0.        +0.j,  0.        +0.j,\n",
       "         0.        +0.j,  0.        +0.j,  0.        +0.j,\n",
       "         0.        +0.j,  0.        +0.j,  0.        +0.j,\n",
       "         0.        +0.j,  0.        +0.j,  0.        +0.j,\n",
       "         0.99076743+0.j,  0.        +0.j,  0.        +0.j,\n",
       "         0.        +0.j,  0.        +0.j,  0.        +0.j,\n",
       "         0.        +0.j,  0.        +0.j,  0.        +0.j,\n",
       "         0.        +0.j,  0.        +0.j,  0.        +0.j,\n",
       "         0.        +0.j,  0.        +0.j,  0.        +0.j,\n",
       "         0.        +0.j], requires_grad=True)"
      ]
     },
     "execution_count": 16,
     "metadata": {},
     "output_type": "execute_result"
    }
   ],
   "source": [
    "ground_state(theta)"
   ]
  },
  {
   "cell_type": "code",
   "execution_count": null,
   "id": "db9af1e2",
   "metadata": {},
   "outputs": [],
   "source": []
  }
 ],
 "metadata": {
  "kernelspec": {
   "display_name": "Python 3 (ipykernel)",
   "language": "python",
   "name": "python3"
  },
  "language_info": {
   "codemirror_mode": {
    "name": "ipython",
    "version": 3
   },
   "file_extension": ".py",
   "mimetype": "text/x-python",
   "name": "python",
   "nbconvert_exporter": "python",
   "pygments_lexer": "ipython3",
   "version": "3.12.5"
  }
 },
 "nbformat": 4,
 "nbformat_minor": 5
}
