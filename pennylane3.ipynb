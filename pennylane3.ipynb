{
 "cells": [
  {
   "cell_type": "code",
   "execution_count": 1,
   "id": "d2bd0487",
   "metadata": {},
   "outputs": [],
   "source": [
    "import pennylane as qml"
   ]
  },
  {
   "cell_type": "code",
   "execution_count": 2,
   "id": "c88982d2",
   "metadata": {},
   "outputs": [],
   "source": [
    "dev = qml.device(\"default.qubit\", wires = 1)  #defaul.qubit eh em escrito em python"
   ]
  },
  {
   "cell_type": "code",
   "execution_count": 3,
   "id": "a63860d9",
   "metadata": {},
   "outputs": [],
   "source": [
    "@qml.qnode(dev)\n",
    "def circuit():\n",
    "    \n",
    "    qml.Hadamard(wires=0)\n",
    "    \n",
    "    return qml.probs(wires = 0) #Retorna a probabilidade "
   ]
  },
  {
   "cell_type": "code",
   "execution_count": 4,
   "id": "14a56ac7",
   "metadata": {},
   "outputs": [
    {
     "data": {
      "text/plain": [
       "tensor([0.5, 0.5], requires_grad=True)"
      ]
     },
     "execution_count": 4,
     "metadata": {},
     "output_type": "execute_result"
    }
   ],
   "source": [
    "circuit()"
   ]
  },
  {
   "cell_type": "code",
   "execution_count": 5,
   "id": "f21b698d",
   "metadata": {},
   "outputs": [],
   "source": [
    "#como python nao eh a linguagem mais rapida, vamos usar outro device\n",
    "\n",
    "dev = qml.device(\"lightning.qubit\", wires = 1) #lightning.qubit eh escrito em C++"
   ]
  },
  {
   "cell_type": "code",
   "execution_count": 6,
   "id": "42beb01e",
   "metadata": {},
   "outputs": [],
   "source": [
    "@qml.qnode(dev)\n",
    "def circuit():\n",
    "    \n",
    "    qml.Hadamard(wires=0)\n",
    "    \n",
    "    return qml.probs(wires = 0) #Retorna a probabilidade "
   ]
  },
  {
   "cell_type": "code",
   "execution_count": 7,
   "id": "6e8da07a",
   "metadata": {},
   "outputs": [
    {
     "data": {
      "text/plain": [
       "tensor([0.5, 0.5], requires_grad=True)"
      ]
     },
     "execution_count": 7,
     "metadata": {},
     "output_type": "execute_result"
    }
   ],
   "source": [
    "circuit()"
   ]
  },
  {
   "cell_type": "code",
   "execution_count": 8,
   "id": "22b302f6",
   "metadata": {},
   "outputs": [],
   "source": [
    "#trabalhando com mixed devices\n",
    "\n",
    "dev = qml.device(\"default.mixed\", wires = 1) #lightning.qubit eh escrito em C++"
   ]
  },
  {
   "cell_type": "code",
   "execution_count": 9,
   "id": "e5e01aa0",
   "metadata": {},
   "outputs": [],
   "source": [
    "@qml.qnode(dev)\n",
    "def circuit():\n",
    "    \n",
    "    qml.BitFlip(0.5, wires=0)\n",
    "    \n",
    "    return qml.probs(wires = 0) #Retorna a probabilidade "
   ]
  },
  {
   "cell_type": "code",
   "execution_count": 10,
   "id": "712d679a",
   "metadata": {},
   "outputs": [
    {
     "data": {
      "text/plain": [
       "array([0.5, 0.5])"
      ]
     },
     "execution_count": 10,
     "metadata": {},
     "output_type": "execute_result"
    }
   ],
   "source": [
    "circuit()"
   ]
  },
  {
   "cell_type": "code",
   "execution_count": null,
   "id": "38c0b089",
   "metadata": {},
   "outputs": [],
   "source": []
  }
 ],
 "metadata": {
  "kernelspec": {
   "display_name": "Python 3 (ipykernel)",
   "language": "python",
   "name": "python3"
  },
  "language_info": {
   "codemirror_mode": {
    "name": "ipython",
    "version": 3
   },
   "file_extension": ".py",
   "mimetype": "text/x-python",
   "name": "python",
   "nbconvert_exporter": "python",
   "pygments_lexer": "ipython3",
   "version": "3.12.5"
  }
 },
 "nbformat": 4,
 "nbformat_minor": 5
}
