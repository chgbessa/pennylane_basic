{
 "cells": [
  {
   "cell_type": "code",
   "execution_count": 1,
   "id": "e9cd4ce5",
   "metadata": {},
   "outputs": [],
   "source": [
    "import pennylane as qml\n",
    "from pennylane import numpy as np\n",
    "\n",
    "np.set_printoptions(precision=10)"
   ]
  },
  {
   "cell_type": "code",
   "execution_count": 2,
   "id": "4c840cc3",
   "metadata": {},
   "outputs": [],
   "source": [
    "dev = qml.device(\"default.qubit\", wires = 2)\n",
    "\n",
    "@qml.qnode(dev)\n",
    "def circuit(params):\n",
    "    \n",
    "    qml.RY(params[0], wires = 0)\n",
    "    qml.RX(params[1], wires = 1)\n",
    "    \n",
    "    return qml.expval(qml.PauliZ(0) + qml.PauliZ(1))"
   ]
  },
  {
   "cell_type": "code",
   "execution_count": 3,
   "id": "790de171",
   "metadata": {},
   "outputs": [
    {
     "name": "stdout",
     "output_type": "stream",
     "text": [
      "1.414213562373095\n"
     ]
    }
   ],
   "source": [
    "params = np.array([np.pi/4, np.pi/4])\n",
    "print(circuit(params))"
   ]
  },
  {
   "cell_type": "code",
   "execution_count": 4,
   "id": "0e591eb3",
   "metadata": {},
   "outputs": [],
   "source": [
    "def my_finite_diff_grad(params, h = 1.0e-7):\n",
    "    \n",
    "    gradient = np.zeros_like(params)\n",
    "    \n",
    "    for i in range(len(params)):\n",
    "        \n",
    "        params[i] += h\n",
    "        gradient[i] += circuit(params)\n",
    "        \n",
    "        params[i] -= 2*h\n",
    "        gradient[i] -= circuit(params)\n",
    "        \n",
    "        gradient[i] /= 2*h\n",
    "        \n",
    "        params[i] += h\n",
    "        \n",
    "    return gradient\n",
    "    \n",
    "@qml.qnode(dev, diff_method = \"finite-diff\")\n",
    "def circuit_finite_diff(params):\n",
    "    \n",
    "    qml.RY(params[0], wires = 0)\n",
    "    qml.RX(params[1], wires = 1)\n",
    "    \n",
    "    return qml.expval(qml.PauliZ(0) + qml.PauliZ(1))"
   ]
  },
  {
   "cell_type": "code",
   "execution_count": 5,
   "id": "e443baf6",
   "metadata": {},
   "outputs": [
    {
     "name": "stdout",
     "output_type": "stream",
     "text": [
      "[-0.7071067798 -0.8660254025]\n",
      "[-0.7071068131 -0.8660254314]\n"
     ]
    }
   ],
   "source": [
    "params = np.array([np.pi/4, np.pi/3], requires_grad = True)\n",
    "\n",
    "print(my_finite_diff_grad(params))\n",
    "print(qml.grad(circuit_finite_diff)(params))"
   ]
  },
  {
   "cell_type": "code",
   "execution_count": 6,
   "id": "1d1fa069",
   "metadata": {},
   "outputs": [],
   "source": [
    "def my_parameter_shift_grad(params, s = np.pi/3):  #baseado num paper \n",
    "    \n",
    "    gradient = np.zeros_like(params)\n",
    "    \n",
    "    for i in range(len(params)):\n",
    "        \n",
    "        params[i] += s\n",
    "        gradient[i] += circuit(params)\n",
    "        \n",
    "        params[i] -= 2*s\n",
    "        gradient[i] -= circuit(params)\n",
    "        \n",
    "        gradient[i] /= 2*np.sin(s)\n",
    "        \n",
    "        params[i] += s\n",
    "        \n",
    "    return gradient\n",
    "\n",
    "@qml.qnode(dev, diff_method = \"parameter-shift\")\n",
    "def circuit_parameter_shift(params):\n",
    "    \n",
    "    qml.RY(params[0], wires = 0)\n",
    "    qml.RX(params[1], wires = 1)\n",
    "    \n",
    "    return qml.expval(qml.PauliZ(0) + qml.PauliZ(1))\n"
   ]
  },
  {
   "cell_type": "code",
   "execution_count": 7,
   "id": "d25de70c",
   "metadata": {},
   "outputs": [
    {
     "name": "stdout",
     "output_type": "stream",
     "text": [
      "[-0.7071067812 -0.8660254038]\n",
      "[-0.7071067812 -0.8660254038]\n"
     ]
    }
   ],
   "source": [
    "print(my_parameter_shift_grad(params))\n",
    "print(qml.grad(circuit_parameter_shift)(params))"
   ]
  },
  {
   "cell_type": "code",
   "execution_count": null,
   "id": "4e4c774a",
   "metadata": {},
   "outputs": [],
   "source": []
  }
 ],
 "metadata": {
  "kernelspec": {
   "display_name": "Python 3 (ipykernel)",
   "language": "python",
   "name": "python3"
  },
  "language_info": {
   "codemirror_mode": {
    "name": "ipython",
    "version": 3
   },
   "file_extension": ".py",
   "mimetype": "text/x-python",
   "name": "python",
   "nbconvert_exporter": "python",
   "pygments_lexer": "ipython3",
   "version": "3.12.5"
  }
 },
 "nbformat": 4,
 "nbformat_minor": 5
}
