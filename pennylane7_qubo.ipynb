{
 "cells": [
  {
   "cell_type": "code",
   "execution_count": 1,
   "id": "5a64ad81",
   "metadata": {},
   "outputs": [],
   "source": [
    "#Ver notebook do pennylane onde temos a formulacao do problema abaixo"
   ]
  },
  {
   "cell_type": "code",
   "execution_count": 2,
   "id": "ae8b0e04",
   "metadata": {},
   "outputs": [],
   "source": [
    "import pennylane as qml\n",
    "from pennylane import numpy as np"
   ]
  },
  {
   "cell_type": "code",
   "execution_count": 3,
   "id": "5b87dc1c",
   "metadata": {},
   "outputs": [
    {
     "name": "stdout",
     "output_type": "stream",
     "text": [
      "  (6.0) [I1]\n",
      "+ (-0.5) [Z1 Z4]\n",
      "+ (-0.5) [Z2 Z3]\n",
      "+ (-0.5) [Z4 Z5]\n",
      "+ (-0.5) [Z3 Z4]\n"
     ]
    }
   ],
   "source": [
    "H = 6*qml.Identity(1) - 0.5*qml.PauliZ(1)@qml.PauliZ(4) - 0.5*qml.PauliZ(2)@qml.PauliZ(3) - 0.5*qml.PauliZ(4)@qml.PauliZ(5)\\\n",
    "    - 0.5*qml.PauliZ(3)@qml.PauliZ(4)\n",
    "\n",
    "print(H)"
   ]
  },
  {
   "cell_type": "code",
   "execution_count": 4,
   "id": "b658bc80",
   "metadata": {},
   "outputs": [],
   "source": [
    "#Ao inves de maximizar a Hamiltoniana acima, vamos minimiza-la. Para isso vamos trocar os sinais"
   ]
  },
  {
   "cell_type": "code",
   "execution_count": 5,
   "id": "94441d29",
   "metadata": {},
   "outputs": [
    {
     "name": "stdout",
     "output_type": "stream",
     "text": [
      "  (-6.0) [I1]\n",
      "+ (0.5) [Z1 Z4]\n",
      "+ (0.5) [Z2 Z3]\n",
      "+ (0.5) [Z4 Z5]\n",
      "+ (0.5) [Z3 Z4]\n"
     ]
    }
   ],
   "source": [
    "H = -6*qml.Identity(1) + 0.5*qml.PauliZ(1)@qml.PauliZ(4) + 0.5*qml.PauliZ(2)@qml.PauliZ(3) +\\\n",
    "    0.5*qml.PauliZ(4)@qml.PauliZ(5) + 0.5*qml.PauliZ(3)@qml.PauliZ(4)\n",
    "\n",
    "print(H)"
   ]
  },
  {
   "cell_type": "code",
   "execution_count": 6,
   "id": "c3e2fc74",
   "metadata": {},
   "outputs": [
    {
     "data": {
      "text/plain": [
       "tensor(-4., requires_grad=True)"
      ]
     },
     "execution_count": 6,
     "metadata": {},
     "output_type": "execute_result"
    }
   ],
   "source": [
    "dev = qml.device(\"default.qubit\", wires = H.wires)\n",
    "\n",
    "@qml.qnode(dev)\n",
    "def circuit(params):\n",
    "    \n",
    "    for param, wire in zip(params, H.wires):\n",
    "        \n",
    "        qml.RY(param, wires = wire)\n",
    "        \n",
    "    return qml.expval(H)\n",
    "\n",
    "circuit([0, 0, 0, 0, 0]) #Exemplo. Todos os eventos no mesmo dia 0"
   ]
  },
  {
   "cell_type": "code",
   "execution_count": 7,
   "id": "d99e9498",
   "metadata": {},
   "outputs": [
    {
     "data": {
      "text/plain": [
       "tensor(-8., requires_grad=True)"
      ]
     },
     "execution_count": 7,
     "metadata": {},
     "output_type": "execute_result"
    }
   ],
   "source": [
    "params = np.random.rand(len(H.wires))\n",
    "opt = qml.AdagradOptimizer(stepsize = 0.5)\n",
    "epochs = 200\n",
    "\n",
    "for epoch in range(epochs):\n",
    "    \n",
    "    params = opt.step(circuit, params)\n",
    "    \n",
    "circuit(params)"
   ]
  },
  {
   "cell_type": "code",
   "execution_count": 10,
   "id": "d8b2dde9",
   "metadata": {},
   "outputs": [
    {
     "data": {
      "text/plain": [
       "tensor([1, 0, 1, 0, 1], dtype=int64, requires_grad=True)"
      ]
     },
     "execution_count": 10,
     "metadata": {},
     "output_type": "execute_result"
    }
   ],
   "source": [
    "dev = qml.device(\"default.qubit\", wires = H.wires, shots = 1)\n",
    "\n",
    "@qml.qnode(dev)\n",
    "def circuit(params):\n",
    "    \n",
    "    for param, wire in zip(params, H.wires):\n",
    "        \n",
    "        qml.RY(param, wires = wire)\n",
    "        \n",
    "    return qml.sample()\n",
    "\n",
    "circuit(params)"
   ]
  },
  {
   "cell_type": "code",
   "execution_count": null,
   "id": "2c989edb",
   "metadata": {},
   "outputs": [],
   "source": []
  }
 ],
 "metadata": {
  "kernelspec": {
   "display_name": "Python 3",
   "language": "python",
   "name": "python3"
  },
  "language_info": {
   "codemirror_mode": {
    "name": "ipython",
    "version": 3
   },
   "file_extension": ".py",
   "mimetype": "text/x-python",
   "name": "python",
   "nbconvert_exporter": "python",
   "pygments_lexer": "ipython3",
   "version": "3.8.8"
  }
 },
 "nbformat": 4,
 "nbformat_minor": 5
}
